{
 "cells": [
  {
   "cell_type": "code",
   "execution_count": 2,
   "metadata": {},
   "outputs": [],
   "source": [
    "import bagpy\n",
    "from bagpy import bagreader\n",
    "import pandas as pd\n",
    "import seaborn as sea\n",
    "import matplotlib.pyplot as plt\n",
    "import numpy as np"
   ]
  },
  {
   "cell_type": "markdown",
   "metadata": {},
   "source": [
    "### 读取 \n",
    "`/home/lih/BagPy/bags/demo_all_migration_2023-11-29-10-52-12.bag `"
   ]
  },
  {
   "cell_type": "code",
   "execution_count": 2,
   "metadata": {},
   "outputs": [
    {
     "name": "stdout",
     "output_type": "stream",
     "text": [
      "[INFO]  Data folder /home/lih/BagPy/bags/demo_all_migration_2023-11-29-10-52-12 already exists. Not creating.\n"
     ]
    }
   ],
   "source": [
    "bag = bagreader(\"/home/lih/BagPy/bags/demo_all_migration_2023-11-29-10-52-12.bag\")"
   ]
  },
  {
   "cell_type": "code",
   "execution_count": 3,
   "metadata": {},
   "outputs": [
    {
     "data": {
      "text/html": [
       "<div>\n",
       "<style scoped>\n",
       "    .dataframe tbody tr th:only-of-type {\n",
       "        vertical-align: middle;\n",
       "    }\n",
       "\n",
       "    .dataframe tbody tr th {\n",
       "        vertical-align: top;\n",
       "    }\n",
       "\n",
       "    .dataframe thead th {\n",
       "        text-align: right;\n",
       "    }\n",
       "</style>\n",
       "<table border=\"1\" class=\"dataframe\">\n",
       "  <thead>\n",
       "    <tr style=\"text-align: right;\">\n",
       "      <th></th>\n",
       "      <th>Topics</th>\n",
       "      <th>Types</th>\n",
       "      <th>Message Count</th>\n",
       "      <th>Frequency</th>\n",
       "    </tr>\n",
       "  </thead>\n",
       "  <tbody>\n",
       "    <tr>\n",
       "      <th>0</th>\n",
       "      <td>/clock</td>\n",
       "      <td>rosgraph_msgs/Clock</td>\n",
       "      <td>32937</td>\n",
       "      <td>250.000000</td>\n",
       "    </tr>\n",
       "    <tr>\n",
       "      <th>1</th>\n",
       "      <td>/diagnostics</td>\n",
       "      <td>diagnostic_msgs/DiagnosticArray</td>\n",
       "      <td>394</td>\n",
       "      <td>2.000000</td>\n",
       "    </tr>\n",
       "    <tr>\n",
       "      <th>2</th>\n",
       "      <td>/drone_1/camera_back/camera_info</td>\n",
       "      <td>sensor_msgs/CameraInfo</td>\n",
       "      <td>1305</td>\n",
       "      <td>10.000000</td>\n",
       "    </tr>\n",
       "    <tr>\n",
       "      <th>3</th>\n",
       "      <td>/drone_1/camera_back/image_raw</td>\n",
       "      <td>sensor_msgs/Image</td>\n",
       "      <td>1305</td>\n",
       "      <td>10.000000</td>\n",
       "    </tr>\n",
       "    <tr>\n",
       "      <th>4</th>\n",
       "      <td>/drone_1/camera_back/parameter_descriptions</td>\n",
       "      <td>dynamic_reconfigure/ConfigDescription</td>\n",
       "      <td>1</td>\n",
       "      <td>NaN</td>\n",
       "    </tr>\n",
       "    <tr>\n",
       "      <th>...</th>\n",
       "      <td>...</td>\n",
       "      <td>...</td>\n",
       "      <td>...</td>\n",
       "      <td>...</td>\n",
       "    </tr>\n",
       "    <tr>\n",
       "      <th>208</th>\n",
       "      <td>/move_base_simple/goal</td>\n",
       "      <td>geometry_msgs/PoseStamped</td>\n",
       "      <td>3</td>\n",
       "      <td>83.333333</td>\n",
       "    </tr>\n",
       "    <tr>\n",
       "      <th>209</th>\n",
       "      <td>/rosout</td>\n",
       "      <td>rosgraph_msgs/Log</td>\n",
       "      <td>250</td>\n",
       "      <td>NaN</td>\n",
       "    </tr>\n",
       "    <tr>\n",
       "      <th>210</th>\n",
       "      <td>/rosout_agg</td>\n",
       "      <td>rosgraph_msgs/Log</td>\n",
       "      <td>271</td>\n",
       "      <td>NaN</td>\n",
       "    </tr>\n",
       "    <tr>\n",
       "      <th>211</th>\n",
       "      <td>/tf</td>\n",
       "      <td>tf2_msgs/TFMessage</td>\n",
       "      <td>39456</td>\n",
       "      <td>NaN</td>\n",
       "    </tr>\n",
       "    <tr>\n",
       "      <th>212</th>\n",
       "      <td>/tf_static</td>\n",
       "      <td>tf2_msgs/TFMessage</td>\n",
       "      <td>6</td>\n",
       "      <td>NaN</td>\n",
       "    </tr>\n",
       "  </tbody>\n",
       "</table>\n",
       "<p>213 rows × 4 columns</p>\n",
       "</div>"
      ],
      "text/plain": [
       "                                          Topics  \\\n",
       "0                                         /clock   \n",
       "1                                   /diagnostics   \n",
       "2               /drone_1/camera_back/camera_info   \n",
       "3                 /drone_1/camera_back/image_raw   \n",
       "4    /drone_1/camera_back/parameter_descriptions   \n",
       "..                                           ...   \n",
       "208                       /move_base_simple/goal   \n",
       "209                                      /rosout   \n",
       "210                                  /rosout_agg   \n",
       "211                                          /tf   \n",
       "212                                   /tf_static   \n",
       "\n",
       "                                     Types  Message Count   Frequency  \n",
       "0                      rosgraph_msgs/Clock          32937  250.000000  \n",
       "1          diagnostic_msgs/DiagnosticArray            394    2.000000  \n",
       "2                   sensor_msgs/CameraInfo           1305   10.000000  \n",
       "3                        sensor_msgs/Image           1305   10.000000  \n",
       "4    dynamic_reconfigure/ConfigDescription              1         NaN  \n",
       "..                                     ...            ...         ...  \n",
       "208              geometry_msgs/PoseStamped              3   83.333333  \n",
       "209                      rosgraph_msgs/Log            250         NaN  \n",
       "210                      rosgraph_msgs/Log            271         NaN  \n",
       "211                     tf2_msgs/TFMessage          39456         NaN  \n",
       "212                     tf2_msgs/TFMessage              6         NaN  \n",
       "\n",
       "[213 rows x 4 columns]"
      ]
     },
     "execution_count": 3,
     "metadata": {},
     "output_type": "execute_result"
    }
   ],
   "source": [
    "bag.topic_table"
   ]
  },
  {
   "cell_type": "code",
   "execution_count": 3,
   "metadata": {},
   "outputs": [
    {
     "ename": "NameError",
     "evalue": "name 'bag' is not defined",
     "output_type": "error",
     "traceback": [
      "\u001b[0;31m---------------------------------------------------------------------------\u001b[0m",
      "\u001b[0;31mNameError\u001b[0m                                 Traceback (most recent call last)",
      "\u001b[1;32m/home/lih/BagPy/vswarm_read/DemoReadVswarm.ipynb 单元格 5\u001b[0m line \u001b[0;36m1\n\u001b[0;32m----> <a href='vscode-notebook-cell:/home/lih/BagPy/vswarm_read/DemoReadVswarm.ipynb#W4sZmlsZQ%3D%3D?line=0'>1</a>\u001b[0m bag\u001b[39m.\u001b[39madd_\n",
      "\u001b[0;31mNameError\u001b[0m: name 'bag' is not defined"
     ]
    }
   ],
   "source": [
    "bagreader().sh"
   ]
  }
 ],
 "metadata": {
  "kernelspec": {
   "display_name": "Python 3",
   "language": "python",
   "name": "python3"
  },
  "language_info": {
   "codemirror_mode": {
    "name": "ipython",
    "version": 3
   },
   "file_extension": ".py",
   "mimetype": "text/x-python",
   "name": "python",
   "nbconvert_exporter": "python",
   "pygments_lexer": "ipython3",
   "version": "3.8.10"
  }
 },
 "nbformat": 4,
 "nbformat_minor": 2
}
